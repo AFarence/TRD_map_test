{
 "cells": [
  {
   "cell_type": "code",
   "execution_count": 1,
   "metadata": {
    "id": "tcOTIyPfSlpq"
   },
   "outputs": [],
   "source": [
    "import numpy as np\n",
    "import pandas as pd\n",
    "import altair as alt"
   ]
  },
  {
   "cell_type": "markdown",
   "metadata": {
    "id": "M1xSjyvii8s7"
   },
   "source": [
    "Setting tick values: https://github.com/altair-viz/altair/issues/1576\n",
    "Adding chart titles: https://github.com/altair-viz/altair/issues/192 \n",
    "\n",
    "and https://github.com/altair-viz/altair/blob/4c344e79ebf619e762d5d220caab1b7a58996ac5/altair/vegalite/v2/examples/line_percent.py\n",
    "\n",
    "Perhaps a way to make charts mobile responsive?\n",
    "https://stackoverflow.com/questions/55169344/how-to-make-altair-plots-responsive\n",
    "\n",
    "D3 numercial notation (for auto-formatting D3 stuff: https://github.com/d3/d3-format/blob/main/README.md#format\n",
    "\n",
    "Removing axis labels: https://altair-viz.github.io/user_guide/customization.html#adjusting-axis-labels\n",
    "\n",
    "Saving altair charts: https://altair-viz.github.io/user_guide/saving_charts.html\n",
    "\n",
    "Removing grey chart border: https://stackoverflow.com/questions/56638508/remove-border-around-vegaembed-geoshape-generated-by-altair\n"
   ]
  },
  {
   "cell_type": "code",
   "execution_count": 2,
   "metadata": {
    "id": "Ju2ML-5JS_E5"
   },
   "outputs": [],
   "source": [
    "df_ten_M = pd.read_csv('MLS numbers - $10M_UPDATED.csv')"
   ]
  },
  {
   "cell_type": "code",
   "execution_count": 3,
   "metadata": {
    "colab": {
     "base_uri": "https://localhost:8080/",
     "height": 143
    },
    "id": "_G3FwWemS_ZH",
    "outputId": "fef86006-4baf-49ff-cdda-4cdf65ff05cc"
   },
   "outputs": [
    {
     "data": {
      "text/html": [
       "<div>\n",
       "<style scoped>\n",
       "    .dataframe tbody tr th:only-of-type {\n",
       "        vertical-align: middle;\n",
       "    }\n",
       "\n",
       "    .dataframe tbody tr th {\n",
       "        vertical-align: top;\n",
       "    }\n",
       "\n",
       "    .dataframe thead th {\n",
       "        text-align: right;\n",
       "    }\n",
       "</style>\n",
       "<table border=\"1\" class=\"dataframe\">\n",
       "  <thead>\n",
       "    <tr style=\"text-align: right;\">\n",
       "      <th></th>\n",
       "      <th>amount_of_sales</th>\n",
       "      <th>total_sale_money</th>\n",
       "      <th>time_frame</th>\n",
       "    </tr>\n",
       "  </thead>\n",
       "  <tbody>\n",
       "    <tr>\n",
       "      <th>0</th>\n",
       "      <td>394</td>\n",
       "      <td>6875000000</td>\n",
       "      <td>Dec_2020_to_Nov_2021</td>\n",
       "    </tr>\n",
       "    <tr>\n",
       "      <th>1</th>\n",
       "      <td>153</td>\n",
       "      <td>2363000000</td>\n",
       "      <td>Dec_2019_to_Nov_2020</td>\n",
       "    </tr>\n",
       "    <tr>\n",
       "      <th>2</th>\n",
       "      <td>104</td>\n",
       "      <td>1600000000</td>\n",
       "      <td>Dec_2018_to_Nov_2019</td>\n",
       "    </tr>\n",
       "  </tbody>\n",
       "</table>\n",
       "</div>"
      ],
      "text/plain": [
       "   amount_of_sales  total_sale_money            time_frame\n",
       "0              394        6875000000  Dec_2020_to_Nov_2021\n",
       "1              153        2363000000  Dec_2019_to_Nov_2020\n",
       "2              104        1600000000  Dec_2018_to_Nov_2019"
      ]
     },
     "execution_count": 3,
     "metadata": {},
     "output_type": "execute_result"
    }
   ],
   "source": [
    "df_ten_M\n",
    "df_ten_M.at[1,'time_frame']='Dec_2019_to_Nov_2020'\n",
    "df_ten_M"
   ]
  },
  {
   "cell_type": "code",
   "execution_count": 4,
   "metadata": {
    "id": "A1mBw-j8WaMH"
   },
   "outputs": [],
   "source": [
    "df_ten_M = df_ten_M.replace('_', ' ',regex=True)"
   ]
  },
  {
   "cell_type": "code",
   "execution_count": 5,
   "metadata": {
    "colab": {
     "base_uri": "https://localhost:8080/",
     "height": 143
    },
    "id": "PWEXamdFQsRe",
    "outputId": "10585e6a-2397-4b11-bd1f-3a08a57500b7"
   },
   "outputs": [
    {
     "data": {
      "text/html": [
       "<div>\n",
       "<style scoped>\n",
       "    .dataframe tbody tr th:only-of-type {\n",
       "        vertical-align: middle;\n",
       "    }\n",
       "\n",
       "    .dataframe tbody tr th {\n",
       "        vertical-align: top;\n",
       "    }\n",
       "\n",
       "    .dataframe thead th {\n",
       "        text-align: right;\n",
       "    }\n",
       "</style>\n",
       "<table border=\"1\" class=\"dataframe\">\n",
       "  <thead>\n",
       "    <tr style=\"text-align: right;\">\n",
       "      <th></th>\n",
       "      <th>amount_of_sales</th>\n",
       "      <th>total_sale_money</th>\n",
       "      <th>time_frame</th>\n",
       "      <th>total_percent</th>\n",
       "    </tr>\n",
       "  </thead>\n",
       "  <tbody>\n",
       "    <tr>\n",
       "      <th>0</th>\n",
       "      <td>394</td>\n",
       "      <td>6875000000</td>\n",
       "      <td>Dec 2020 to Nov 2021</td>\n",
       "      <td>0.605223</td>\n",
       "    </tr>\n",
       "    <tr>\n",
       "      <th>1</th>\n",
       "      <td>153</td>\n",
       "      <td>2363000000</td>\n",
       "      <td>Dec 2019 to Nov 2020</td>\n",
       "      <td>0.235023</td>\n",
       "    </tr>\n",
       "    <tr>\n",
       "      <th>2</th>\n",
       "      <td>104</td>\n",
       "      <td>1600000000</td>\n",
       "      <td>Dec 2018 to Nov 2019</td>\n",
       "      <td>0.159754</td>\n",
       "    </tr>\n",
       "  </tbody>\n",
       "</table>\n",
       "</div>"
      ],
      "text/plain": [
       "   amount_of_sales  total_sale_money            time_frame  total_percent\n",
       "0              394        6875000000  Dec 2020 to Nov 2021       0.605223\n",
       "1              153        2363000000  Dec 2019 to Nov 2020       0.235023\n",
       "2              104        1600000000  Dec 2018 to Nov 2019       0.159754"
      ]
     },
     "execution_count": 5,
     "metadata": {},
     "output_type": "execute_result"
    }
   ],
   "source": [
    "### Let's calculate the total percent column\n",
    "\n",
    "tenM_sale_sum = df_ten_M.amount_of_sales.sum\n",
    "tenM_sale_sum()\n",
    "df_ten_M['total_percent'] = df_ten_M['amount_of_sales'] / tenM_sale_sum()\n",
    "\n",
    "df_ten_M"
   ]
  },
  {
   "cell_type": "code",
   "execution_count": 6,
   "metadata": {
    "colab": {
     "base_uri": "https://localhost:8080/"
    },
    "id": "UMhrFZMfk6Dl",
    "outputId": "7cf8591d-14e6-487c-ca7d-ecb111250942"
   },
   "outputs": [
    {
     "data": {
      "text/plain": [
       "RendererRegistry.enable('default')"
      ]
     },
     "execution_count": 6,
     "metadata": {},
     "output_type": "execute_result"
    }
   ],
   "source": [
    "### Removes the triple dot button ###\n",
    "alt.renderers.set_embed_options(actions=False)"
   ]
  },
  {
   "cell_type": "code",
   "execution_count": 7,
   "metadata": {
    "colab": {
     "base_uri": "https://localhost:8080/",
     "height": 453
    },
    "id": "kTiMJrLTS_hP",
    "outputId": "37dede2c-1aff-40ec-ceba-9ab05f75f4d0"
   },
   "outputs": [
    {
     "data": {
      "text/html": [
       "\n",
       "<div id=\"altair-viz-a80ac9f622f14534a558a1cc813eefb4\"></div>\n",
       "<script type=\"text/javascript\">\n",
       "  (function(spec, embedOpt){\n",
       "    let outputDiv = document.currentScript.previousElementSibling;\n",
       "    if (outputDiv.id !== \"altair-viz-a80ac9f622f14534a558a1cc813eefb4\") {\n",
       "      outputDiv = document.getElementById(\"altair-viz-a80ac9f622f14534a558a1cc813eefb4\");\n",
       "    }\n",
       "    const paths = {\n",
       "      \"vega\": \"https://cdn.jsdelivr.net/npm//vega@5?noext\",\n",
       "      \"vega-lib\": \"https://cdn.jsdelivr.net/npm//vega-lib?noext\",\n",
       "      \"vega-lite\": \"https://cdn.jsdelivr.net/npm//vega-lite@4.8.1?noext\",\n",
       "      \"vega-embed\": \"https://cdn.jsdelivr.net/npm//vega-embed@6?noext\",\n",
       "    };\n",
       "\n",
       "    function loadScript(lib) {\n",
       "      return new Promise(function(resolve, reject) {\n",
       "        var s = document.createElement('script');\n",
       "        s.src = paths[lib];\n",
       "        s.async = true;\n",
       "        s.onload = () => resolve(paths[lib]);\n",
       "        s.onerror = () => reject(`Error loading script: ${paths[lib]}`);\n",
       "        document.getElementsByTagName(\"head\")[0].appendChild(s);\n",
       "      });\n",
       "    }\n",
       "\n",
       "    function showError(err) {\n",
       "      outputDiv.innerHTML = `<div class=\"error\" style=\"color:red;\">${err}</div>`;\n",
       "      throw err;\n",
       "    }\n",
       "\n",
       "    function displayChart(vegaEmbed) {\n",
       "      vegaEmbed(outputDiv, spec, embedOpt)\n",
       "        .catch(err => showError(`Javascript Error: ${err.message}<br>This usually means there's a typo in your chart specification. See the javascript console for the full traceback.`));\n",
       "    }\n",
       "\n",
       "    if(typeof define === \"function\" && define.amd) {\n",
       "      requirejs.config({paths});\n",
       "      require([\"vega-embed\"], displayChart, err => showError(`Error loading script: ${err.message}`));\n",
       "    } else if (typeof vegaEmbed === \"function\") {\n",
       "      displayChart(vegaEmbed);\n",
       "    } else {\n",
       "      loadScript(\"vega\")\n",
       "        .then(() => loadScript(\"vega-lite\"))\n",
       "        .then(() => loadScript(\"vega-embed\"))\n",
       "        .catch(showError)\n",
       "        .then(() => displayChart(vegaEmbed));\n",
       "    }\n",
       "  })({\"config\": {\"view\": {\"continuousWidth\": 400, \"continuousHeight\": 300}}, \"data\": {\"name\": \"data-7cfe507d2ed6b4d1d0d41a2996e6efbc\"}, \"mark\": \"bar\", \"encoding\": {\"tooltip\": [{\"type\": \"nominal\", \"field\": \"time_frame\", \"title\": \"Time Frame\"}, {\"type\": \"quantitative\", \"field\": \"amount_of_sales\", \"title\": \"Sale Volume\"}], \"x\": {\"type\": \"nominal\", \"axis\": {\"labelAngle\": -45, \"title\": \"Time Frame\"}, \"field\": \"time_frame\"}, \"y\": {\"type\": \"quantitative\", \"axis\": {\"title\": \"Number of Home Sales\"}, \"field\": \"amount_of_sales\"}}, \"title\": \"Number of Homes sold for more than $10M\", \"$schema\": \"https://vega.github.io/schema/vega-lite/v4.8.1.json\", \"datasets\": {\"data-7cfe507d2ed6b4d1d0d41a2996e6efbc\": [{\"amount_of_sales\": 394, \"total_sale_money\": 6875000000, \"time_frame\": \"Dec 2020 to Nov 2021\", \"total_percent\": 0.6052227342549923}, {\"amount_of_sales\": 153, \"total_sale_money\": 2363000000, \"time_frame\": \"Dec 2019 to Nov 2020\", \"total_percent\": 0.2350230414746544}, {\"amount_of_sales\": 104, \"total_sale_money\": 1600000000, \"time_frame\": \"Dec 2018 to Nov 2019\", \"total_percent\": 0.1597542242703533}]}}, {\"actions\": false, \"mode\": \"vega-lite\"});\n",
       "</script>"
      ],
      "text/plain": [
       "alt.Chart(...)"
      ]
     },
     "execution_count": 7,
     "metadata": {},
     "output_type": "execute_result"
    }
   ],
   "source": [
    "time_sales = alt.Chart(df_ten_M).mark_bar().encode(\n",
    "    tooltip=[alt.Tooltip('time_frame',title='Time Frame'),\\\n",
    "             alt.Tooltip('amount_of_sales',title='Sale Volume')\n",
    "             ],\n",
    "   x=alt.X('time_frame', axis=alt.Axis(title='Time Frame',labelAngle=-45)),\n",
    "   y=alt.Y('amount_of_sales',axis=alt.Axis(title='Number of Home Sales'))\n",
    ").properties(\n",
    "    title=\"Number of Homes sold for more than $10M\"\n",
    ")\n",
    "\n",
    "time_sales"
   ]
  },
  {
   "cell_type": "code",
   "execution_count": 8,
   "metadata": {
    "colab": {
     "base_uri": "https://localhost:8080/",
     "height": 448
    },
    "id": "XShB43b5S_p3",
    "outputId": "d7b49eb9-7365-44c0-94c0-6c70e111483e"
   },
   "outputs": [
    {
     "data": {
      "text/html": [
       "\n",
       "<div id=\"altair-viz-69cf4b2a947743c39a11a172767038a0\"></div>\n",
       "<script type=\"text/javascript\">\n",
       "  (function(spec, embedOpt){\n",
       "    let outputDiv = document.currentScript.previousElementSibling;\n",
       "    if (outputDiv.id !== \"altair-viz-69cf4b2a947743c39a11a172767038a0\") {\n",
       "      outputDiv = document.getElementById(\"altair-viz-69cf4b2a947743c39a11a172767038a0\");\n",
       "    }\n",
       "    const paths = {\n",
       "      \"vega\": \"https://cdn.jsdelivr.net/npm//vega@5?noext\",\n",
       "      \"vega-lib\": \"https://cdn.jsdelivr.net/npm//vega-lib?noext\",\n",
       "      \"vega-lite\": \"https://cdn.jsdelivr.net/npm//vega-lite@4.8.1?noext\",\n",
       "      \"vega-embed\": \"https://cdn.jsdelivr.net/npm//vega-embed@6?noext\",\n",
       "    };\n",
       "\n",
       "    function loadScript(lib) {\n",
       "      return new Promise(function(resolve, reject) {\n",
       "        var s = document.createElement('script');\n",
       "        s.src = paths[lib];\n",
       "        s.async = true;\n",
       "        s.onload = () => resolve(paths[lib]);\n",
       "        s.onerror = () => reject(`Error loading script: ${paths[lib]}`);\n",
       "        document.getElementsByTagName(\"head\")[0].appendChild(s);\n",
       "      });\n",
       "    }\n",
       "\n",
       "    function showError(err) {\n",
       "      outputDiv.innerHTML = `<div class=\"error\" style=\"color:red;\">${err}</div>`;\n",
       "      throw err;\n",
       "    }\n",
       "\n",
       "    function displayChart(vegaEmbed) {\n",
       "      vegaEmbed(outputDiv, spec, embedOpt)\n",
       "        .catch(err => showError(`Javascript Error: ${err.message}<br>This usually means there's a typo in your chart specification. See the javascript console for the full traceback.`));\n",
       "    }\n",
       "\n",
       "    if(typeof define === \"function\" && define.amd) {\n",
       "      requirejs.config({paths});\n",
       "      require([\"vega-embed\"], displayChart, err => showError(`Error loading script: ${err.message}`));\n",
       "    } else if (typeof vegaEmbed === \"function\") {\n",
       "      displayChart(vegaEmbed);\n",
       "    } else {\n",
       "      loadScript(\"vega\")\n",
       "        .then(() => loadScript(\"vega-lite\"))\n",
       "        .then(() => loadScript(\"vega-embed\"))\n",
       "        .catch(showError)\n",
       "        .then(() => displayChart(vegaEmbed));\n",
       "    }\n",
       "  })({\"config\": {\"view\": {\"continuousWidth\": 400, \"continuousHeight\": 300}}, \"data\": {\"name\": \"data-7cfe507d2ed6b4d1d0d41a2996e6efbc\"}, \"mark\": \"bar\", \"encoding\": {\"tooltip\": [{\"type\": \"nominal\", \"field\": \"time_frame\", \"title\": \"Time Frame\"}, {\"type\": \"quantitative\", \"field\": \"total_sale_money\", \"format\": \"$,\", \"title\": \"Dollar Volume\"}], \"x\": {\"type\": \"nominal\", \"axis\": {\"labelAngle\": -45, \"title\": \"Time Frame\"}, \"field\": \"time_frame\"}, \"y\": {\"type\": \"quantitative\", \"axis\": {\"format\": \"$,N\", \"title\": \"Total Dollar Volume\", \"values\": [0, 4000000000, 8000000000]}, \"field\": \"total_sale_money\"}}, \"title\": \"Total Dollar Volume of Homes sold for more than $10M\", \"$schema\": \"https://vega.github.io/schema/vega-lite/v4.8.1.json\", \"datasets\": {\"data-7cfe507d2ed6b4d1d0d41a2996e6efbc\": [{\"amount_of_sales\": 394, \"total_sale_money\": 6875000000, \"time_frame\": \"Dec 2020 to Nov 2021\", \"total_percent\": 0.6052227342549923}, {\"amount_of_sales\": 153, \"total_sale_money\": 2363000000, \"time_frame\": \"Dec 2019 to Nov 2020\", \"total_percent\": 0.2350230414746544}, {\"amount_of_sales\": 104, \"total_sale_money\": 1600000000, \"time_frame\": \"Dec 2018 to Nov 2019\", \"total_percent\": 0.1597542242703533}]}}, {\"actions\": false, \"mode\": \"vega-lite\"});\n",
       "</script>"
      ],
      "text/plain": [
       "alt.Chart(...)"
      ]
     },
     "execution_count": 8,
     "metadata": {},
     "output_type": "execute_result"
    }
   ],
   "source": [
    "time_money = alt.Chart(df_ten_M).mark_bar().encode(\n",
    "    tooltip=[alt.Tooltip('time_frame',title='Time Frame'),\\\n",
    "             alt.Tooltip('total_sale_money',title='Dollar Volume',format='$,')],\n",
    "   x=alt.X('time_frame', axis=alt.Axis(title='Time Frame',labelAngle=-45)),\n",
    "   y=alt.Y('total_sale_money',axis=alt.Axis(values=[0,4000000000,8000000000],format='$,N',\n",
    "       title='Total Dollar Volume'))\n",
    ").properties(\n",
    "    title=\"Total Dollar Volume of Homes sold for more than $10M\"\n",
    ")\n",
    "\n",
    "time_money"
   ]
  },
  {
   "cell_type": "code",
   "execution_count": 9,
   "metadata": {
    "id": "anPkJu5Bmc9J"
   },
   "outputs": [],
   "source": [
    "combo_chart = alt.hconcat(time_sales, time_money)"
   ]
  },
  {
   "cell_type": "code",
   "execution_count": 10,
   "metadata": {
    "colab": {
     "base_uri": "https://localhost:8080/",
     "height": 455
    },
    "id": "7sF-30zzmnQa",
    "outputId": "dcbee405-36e1-458e-d662-494d3db36bdf"
   },
   "outputs": [
    {
     "data": {
      "text/html": [
       "\n",
       "<div id=\"altair-viz-bad38080adb840d4a140198074d5db11\"></div>\n",
       "<script type=\"text/javascript\">\n",
       "  (function(spec, embedOpt){\n",
       "    let outputDiv = document.currentScript.previousElementSibling;\n",
       "    if (outputDiv.id !== \"altair-viz-bad38080adb840d4a140198074d5db11\") {\n",
       "      outputDiv = document.getElementById(\"altair-viz-bad38080adb840d4a140198074d5db11\");\n",
       "    }\n",
       "    const paths = {\n",
       "      \"vega\": \"https://cdn.jsdelivr.net/npm//vega@5?noext\",\n",
       "      \"vega-lib\": \"https://cdn.jsdelivr.net/npm//vega-lib?noext\",\n",
       "      \"vega-lite\": \"https://cdn.jsdelivr.net/npm//vega-lite@4.8.1?noext\",\n",
       "      \"vega-embed\": \"https://cdn.jsdelivr.net/npm//vega-embed@6?noext\",\n",
       "    };\n",
       "\n",
       "    function loadScript(lib) {\n",
       "      return new Promise(function(resolve, reject) {\n",
       "        var s = document.createElement('script');\n",
       "        s.src = paths[lib];\n",
       "        s.async = true;\n",
       "        s.onload = () => resolve(paths[lib]);\n",
       "        s.onerror = () => reject(`Error loading script: ${paths[lib]}`);\n",
       "        document.getElementsByTagName(\"head\")[0].appendChild(s);\n",
       "      });\n",
       "    }\n",
       "\n",
       "    function showError(err) {\n",
       "      outputDiv.innerHTML = `<div class=\"error\" style=\"color:red;\">${err}</div>`;\n",
       "      throw err;\n",
       "    }\n",
       "\n",
       "    function displayChart(vegaEmbed) {\n",
       "      vegaEmbed(outputDiv, spec, embedOpt)\n",
       "        .catch(err => showError(`Javascript Error: ${err.message}<br>This usually means there's a typo in your chart specification. See the javascript console for the full traceback.`));\n",
       "    }\n",
       "\n",
       "    if(typeof define === \"function\" && define.amd) {\n",
       "      requirejs.config({paths});\n",
       "      require([\"vega-embed\"], displayChart, err => showError(`Error loading script: ${err.message}`));\n",
       "    } else if (typeof vegaEmbed === \"function\") {\n",
       "      displayChart(vegaEmbed);\n",
       "    } else {\n",
       "      loadScript(\"vega\")\n",
       "        .then(() => loadScript(\"vega-lite\"))\n",
       "        .then(() => loadScript(\"vega-embed\"))\n",
       "        .catch(showError)\n",
       "        .then(() => displayChart(vegaEmbed));\n",
       "    }\n",
       "  })({\"config\": {\"view\": {\"continuousWidth\": 400, \"continuousHeight\": 300}}, \"hconcat\": [{\"mark\": \"bar\", \"encoding\": {\"tooltip\": [{\"type\": \"nominal\", \"field\": \"time_frame\", \"title\": \"Time Frame\"}, {\"type\": \"quantitative\", \"field\": \"amount_of_sales\", \"title\": \"Sale Volume\"}], \"x\": {\"type\": \"nominal\", \"axis\": {\"labelAngle\": -45, \"title\": \"Time Frame\"}, \"field\": \"time_frame\"}, \"y\": {\"type\": \"quantitative\", \"axis\": {\"title\": \"Number of Home Sales\"}, \"field\": \"amount_of_sales\"}}, \"title\": \"Number of Homes sold for more than $10M\"}, {\"mark\": \"bar\", \"encoding\": {\"tooltip\": [{\"type\": \"nominal\", \"field\": \"time_frame\", \"title\": \"Time Frame\"}, {\"type\": \"quantitative\", \"field\": \"total_sale_money\", \"format\": \"$,\", \"title\": \"Dollar Volume\"}], \"x\": {\"type\": \"nominal\", \"axis\": {\"labelAngle\": -45, \"title\": \"Time Frame\"}, \"field\": \"time_frame\"}, \"y\": {\"type\": \"quantitative\", \"axis\": {\"format\": \"$,N\", \"title\": \"Total Dollar Volume\", \"values\": [0, 4000000000, 8000000000]}, \"field\": \"total_sale_money\"}}, \"title\": \"Total Dollar Volume of Homes sold for more than $10M\"}], \"data\": {\"name\": \"data-7cfe507d2ed6b4d1d0d41a2996e6efbc\"}, \"$schema\": \"https://vega.github.io/schema/vega-lite/v4.8.1.json\", \"datasets\": {\"data-7cfe507d2ed6b4d1d0d41a2996e6efbc\": [{\"amount_of_sales\": 394, \"total_sale_money\": 6875000000, \"time_frame\": \"Dec 2020 to Nov 2021\", \"total_percent\": 0.6052227342549923}, {\"amount_of_sales\": 153, \"total_sale_money\": 2363000000, \"time_frame\": \"Dec 2019 to Nov 2020\", \"total_percent\": 0.2350230414746544}, {\"amount_of_sales\": 104, \"total_sale_money\": 1600000000, \"time_frame\": \"Dec 2018 to Nov 2019\", \"total_percent\": 0.1597542242703533}]}}, {\"actions\": false, \"mode\": \"vega-lite\"});\n",
       "</script>"
      ],
      "text/plain": [
       "alt.HConcatChart(...)"
      ]
     },
     "execution_count": 10,
     "metadata": {},
     "output_type": "execute_result"
    }
   ],
   "source": [
    "combo_chart"
   ]
  },
  {
   "cell_type": "code",
   "execution_count": 11,
   "metadata": {
    "id": "wIBzIHBnivYy"
   },
   "outputs": [],
   "source": [
    "combo_chart.save('Index.html')"
   ]
  },
  {
   "cell_type": "code",
   "execution_count": 12,
   "metadata": {
    "colab": {
     "base_uri": "https://localhost:8080/"
    },
    "id": "jveOHKicU8a9",
    "outputId": "f2164ba7-690f-4ffd-a1ea-f309e52d9918"
   },
   "outputs": [],
   "source": [
    "# pip install altair==4.2.0rc1"
   ]
  },
  {
   "cell_type": "code",
   "execution_count": 13,
   "metadata": {
    "colab": {
     "base_uri": "https://localhost:8080/"
    },
    "id": "t7y0X2S2twtW",
    "outputId": "23d430aa-76c3-412a-d739-c741231caab2"
   },
   "outputs": [
    {
     "data": {
      "text/plain": [
       "Index(['amount_of_sales', 'total_sale_money', 'time_frame', 'total_percent'], dtype='object')"
      ]
     },
     "execution_count": 13,
     "metadata": {},
     "output_type": "execute_result"
    }
   ],
   "source": [
    "df_ten_M.columns"
   ]
  },
  {
   "cell_type": "code",
   "execution_count": 14,
   "metadata": {
    "colab": {
     "base_uri": "https://localhost:8080/",
     "height": 348
    },
    "id": "zYsDgaMoS689",
    "outputId": "e2ce6abb-7676-4cd5-c9b8-8012f6410ac9"
   },
   "outputs": [
    {
     "ename": "AttributeError",
     "evalue": "'Chart' object has no attribute 'mark_arc'",
     "output_type": "error",
     "traceback": [
      "\u001b[1;31m---------------------------------------------------------------------------\u001b[0m",
      "\u001b[1;31mAttributeError\u001b[0m                            Traceback (most recent call last)",
      "\u001b[1;32m<ipython-input-14-085e4362f13c>\u001b[0m in \u001b[0;36m<module>\u001b[1;34m\u001b[0m\n\u001b[0;32m      1\u001b[0m \u001b[1;31m### Let's make a pie chart\u001b[0m\u001b[1;33m\u001b[0m\u001b[1;33m\u001b[0m\u001b[1;33m\u001b[0m\u001b[0m\n\u001b[0;32m      2\u001b[0m \u001b[1;33m\u001b[0m\u001b[0m\n\u001b[1;32m----> 3\u001b[1;33m pie_chart_10M = alt.Chart(df_ten_M).mark_arc().encode(\n\u001b[0m\u001b[0;32m      4\u001b[0m     \u001b[0mtheta\u001b[0m\u001b[1;33m=\u001b[0m\u001b[0malt\u001b[0m\u001b[1;33m.\u001b[0m\u001b[0mTheta\u001b[0m\u001b[1;33m(\u001b[0m\u001b[0mfield\u001b[0m\u001b[1;33m=\u001b[0m\u001b[1;34m\"total_percent\"\u001b[0m\u001b[1;33m,\u001b[0m\u001b[0mtype\u001b[0m\u001b[1;33m=\u001b[0m\u001b[1;34m\"quantitative\"\u001b[0m\u001b[1;33m)\u001b[0m\u001b[1;33m,\u001b[0m\u001b[1;33m\u001b[0m\u001b[1;33m\u001b[0m\u001b[0m\n\u001b[0;32m      5\u001b[0m     \u001b[0mcolor\u001b[0m\u001b[1;33m=\u001b[0m\u001b[0malt\u001b[0m\u001b[1;33m.\u001b[0m\u001b[0mColor\u001b[0m\u001b[1;33m(\u001b[0m\u001b[0mfield\u001b[0m\u001b[1;33m=\u001b[0m\u001b[1;34m\"time_frame\"\u001b[0m\u001b[1;33m,\u001b[0m\u001b[0mtype\u001b[0m\u001b[1;33m=\u001b[0m\u001b[1;34m\"nominal\"\u001b[0m\u001b[1;33m,\u001b[0m\u001b[0mlegend\u001b[0m\u001b[1;33m=\u001b[0m\u001b[0malt\u001b[0m\u001b[1;33m.\u001b[0m\u001b[0mLegend\u001b[0m\u001b[1;33m(\u001b[0m\u001b[0mtitle\u001b[0m\u001b[1;33m=\u001b[0m\u001b[1;34m\"Time Frame\"\u001b[0m\u001b[1;33m)\u001b[0m\u001b[1;33m)\u001b[0m\u001b[1;33m,\u001b[0m\u001b[1;33m\u001b[0m\u001b[1;33m\u001b[0m\u001b[0m\n",
      "\u001b[1;32m~\\AppData\\Local\\Programs\\Python\\Python38\\lib\\site-packages\\altair\\utils\\schemapi.py\u001b[0m in \u001b[0;36m__getattr__\u001b[1;34m(self, attr)\u001b[0m\n\u001b[0;32m    255\u001b[0m             \u001b[1;32mexcept\u001b[0m \u001b[0mAttributeError\u001b[0m\u001b[1;33m:\u001b[0m\u001b[1;33m\u001b[0m\u001b[1;33m\u001b[0m\u001b[0m\n\u001b[0;32m    256\u001b[0m                 \u001b[0m_getattr\u001b[0m \u001b[1;33m=\u001b[0m \u001b[0msuper\u001b[0m\u001b[1;33m(\u001b[0m\u001b[0mSchemaBase\u001b[0m\u001b[1;33m,\u001b[0m \u001b[0mself\u001b[0m\u001b[1;33m)\u001b[0m\u001b[1;33m.\u001b[0m\u001b[0m__getattribute__\u001b[0m\u001b[1;33m\u001b[0m\u001b[1;33m\u001b[0m\u001b[0m\n\u001b[1;32m--> 257\u001b[1;33m             \u001b[1;32mreturn\u001b[0m \u001b[0m_getattr\u001b[0m\u001b[1;33m(\u001b[0m\u001b[0mattr\u001b[0m\u001b[1;33m)\u001b[0m\u001b[1;33m\u001b[0m\u001b[1;33m\u001b[0m\u001b[0m\n\u001b[0m\u001b[0;32m    258\u001b[0m \u001b[1;33m\u001b[0m\u001b[0m\n\u001b[0;32m    259\u001b[0m     \u001b[1;32mdef\u001b[0m \u001b[0m__setattr__\u001b[0m\u001b[1;33m(\u001b[0m\u001b[0mself\u001b[0m\u001b[1;33m,\u001b[0m \u001b[0mitem\u001b[0m\u001b[1;33m,\u001b[0m \u001b[0mval\u001b[0m\u001b[1;33m)\u001b[0m\u001b[1;33m:\u001b[0m\u001b[1;33m\u001b[0m\u001b[1;33m\u001b[0m\u001b[0m\n",
      "\u001b[1;31mAttributeError\u001b[0m: 'Chart' object has no attribute 'mark_arc'"
     ]
    }
   ],
   "source": [
    "### Let's make a pie chart\n",
    "\n",
    "pie_chart_10M = alt.Chart(df_ten_M).mark_arc().encode(\n",
    "    theta=alt.Theta(field=\"total_percent\",type=\"quantitative\"),\n",
    "    color=alt.Color(field=\"time_frame\",type=\"nominal\",legend=alt.Legend(title=\"Time Frame\")),\n",
    "    tooltip=[alt.Tooltip('time_frame',title='Time Frame'),\\\n",
    "             alt.Tooltip('total_percent', title='Percent', format='.2%')]\n",
    ").properties(\n",
    "    title=\"Percent of $10M+ homes sold over past three years\"\n",
    ").configure_view(\n",
    "    strokeWidth=0\n",
    ")\n",
    "\n",
    "pie_chart_10M"
   ]
  },
  {
   "cell_type": "code",
   "execution_count": null,
   "metadata": {
    "id": "6YF21GJ65nC5"
   },
   "outputs": [],
   "source": [
    "# pie_chart_10M.save('PIE_CHART.html')"
   ]
  },
  {
   "cell_type": "markdown",
   "metadata": {
    "id": "OSOZjKa7p_la"
   },
   "source": [
    "--UNDER $1M--"
   ]
  },
  {
   "cell_type": "code",
   "execution_count": null,
   "metadata": {
    "id": "M3s2cslsos0J"
   },
   "outputs": [],
   "source": [
    "# df_under_1m = pd.read_csv('/content/drive/MyDrive/MLSdata/MLS numbers - under $1m.csv')"
   ]
  },
  {
   "cell_type": "code",
   "execution_count": null,
   "metadata": {
    "colab": {
     "base_uri": "https://localhost:8080/",
     "height": 143
    },
    "id": "Ws_hXvuwos9x",
    "outputId": "e909ba10-5808-4916-c0eb-a04f04362de9"
   },
   "outputs": [],
   "source": [
    "# df_under_1m = df_under_1m.replace('_', ' ',regex=True)\n",
    "# df_under_1m"
   ]
  },
  {
   "cell_type": "code",
   "execution_count": null,
   "metadata": {
    "colab": {
     "base_uri": "https://localhost:8080/",
     "height": 141
    },
    "id": "A7-l8_0CotGI",
    "outputId": "bcd6757d-4998-43eb-a016-cd226183cb3a"
   },
   "outputs": [],
   "source": [
    "# time_sales_under_1m = alt.Chart(df_under_1m).mark_bar().encode(\n",
    "#     tooltip=[alt.Tooltip('time_frame',title='Time Frame'),\\\n",
    "#              alt.Tooltip('amount_of_sales',title='Sale Volume',format=',')\n",
    "#              ],\n",
    "#    y=alt.Y('time_frame', axis=alt.Axis(title='Time Frame')),\n",
    "#    x=alt.X('amount_of_sales',axis=alt.Axis(tickCount=4,title='Number of Home Sales'))\n",
    "# ).properties(\n",
    "#     title=\"Number of Homes sold for less than $1M\"\n",
    "# )\n",
    "\n",
    "# time_sales_under_1m"
   ]
  },
  {
   "cell_type": "code",
   "execution_count": null,
   "metadata": {
    "id": "yII0U0uRqwO4"
   },
   "outputs": [],
   "source": [
    "# df_under_1m = df_under_1m.replace(',','',regex=True)\n",
    "# df_under_1m.total_sale_money = df_under_1m.total_sale_money.astype(int)"
   ]
  },
  {
   "cell_type": "code",
   "execution_count": null,
   "metadata": {
    "colab": {
     "base_uri": "https://localhost:8080/"
    },
    "id": "9g5u3eySrbmI",
    "outputId": "bb1d860c-dd67-4efe-d4be-4851191398c7"
   },
   "outputs": [],
   "source": [
    "# df_under_1m.dtypes"
   ]
  },
  {
   "cell_type": "code",
   "execution_count": null,
   "metadata": {
    "colab": {
     "base_uri": "https://localhost:8080/",
     "height": 141
    },
    "id": "XfdGefFOotO4",
    "outputId": "07909a0a-cf96-49ca-de0a-952ba5a0ec4a"
   },
   "outputs": [],
   "source": [
    "# time_money_under_1m = alt.Chart(df_under_1m).mark_bar().encode(\n",
    "#     tooltip=[alt.Tooltip('time_frame',title='Time Frame'),\\\n",
    "#              alt.Tooltip('total_sale_money',title='Dollar Volume',format='$,')],\n",
    "#    y=alt.Y('time_frame', axis=alt.Axis(title='Time Frame')),\n",
    "#    x=alt.X('total_sale_money',axis=alt.Axis(values=[0,25000000000,50000000000],format='$,N',\n",
    "#        title='Total Dollar Volume'))\n",
    "# ).properties(\n",
    "#     title=\"Total Dollar Volume of Homes sold for less than $1M\"\n",
    "# )\n",
    "\n",
    "# time_money_under_1m"
   ]
  },
  {
   "cell_type": "code",
   "execution_count": null,
   "metadata": {
    "colab": {
     "base_uri": "https://localhost:8080/",
     "height": 275
    },
    "id": "GJkhY48926KN",
    "outputId": "ec3c4f26-a4d4-4c79-8811-5af95358cc58"
   },
   "outputs": [],
   "source": [
    "# combo_chart_1m = alt.vconcat(time_sales_under_1m, time_money_under_1m)\n",
    "# combo_chart_1m"
   ]
  }
 ],
 "metadata": {
  "colab": {
   "collapsed_sections": [],
   "name": "MLSanalysis.ipynb",
   "provenance": []
  },
  "kernelspec": {
   "display_name": "Python 3",
   "language": "python",
   "name": "python3"
  },
  "language_info": {
   "codemirror_mode": {
    "name": "ipython",
    "version": 3
   },
   "file_extension": ".py",
   "mimetype": "text/x-python",
   "name": "python",
   "nbconvert_exporter": "python",
   "pygments_lexer": "ipython3",
   "version": "3.8.6"
  },
  "toc": {
   "base_numbering": 1,
   "nav_menu": {},
   "number_sections": true,
   "sideBar": true,
   "skip_h1_title": false,
   "title_cell": "Table of Contents",
   "title_sidebar": "Contents",
   "toc_cell": false,
   "toc_position": {},
   "toc_section_display": true,
   "toc_window_display": false
  }
 },
 "nbformat": 4,
 "nbformat_minor": 1
}
