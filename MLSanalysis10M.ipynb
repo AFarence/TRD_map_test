{
 "cells": [
  {
   "cell_type": "code",
   "execution_count": 15,
   "metadata": {
    "id": "tcOTIyPfSlpq"
   },
   "outputs": [],
   "source": [
    "import numpy as np\n",
    "import pandas as pd\n",
    "import altair as alt"
   ]
  },
  {
   "cell_type": "markdown",
   "metadata": {
    "id": "M1xSjyvii8s7"
   },
   "source": [
    "Setting tick values: https://github.com/altair-viz/altair/issues/1576\n",
    "Adding chart titles: https://github.com/altair-viz/altair/issues/192 \n",
    "\n",
    "and https://github.com/altair-viz/altair/blob/4c344e79ebf619e762d5d220caab1b7a58996ac5/altair/vegalite/v2/examples/line_percent.py\n",
    "\n",
    "Perhaps a way to make charts mobile responsive?\n",
    "https://stackoverflow.com/questions/55169344/how-to-make-altair-plots-responsive\n",
    "\n",
    "D3 numercial notation (for auto-formatting D3 stuff: https://github.com/d3/d3-format/blob/main/README.md#format\n",
    "\n",
    "Removing axis labels: https://altair-viz.github.io/user_guide/customization.html#adjusting-axis-labels\n",
    "\n",
    "Saving altair charts: https://altair-viz.github.io/user_guide/saving_charts.html\n",
    "\n",
    "Removing grey chart border: https://stackoverflow.com/questions/56638508/remove-border-around-vegaembed-geoshape-generated-by-altair\n"
   ]
  },
  {
   "cell_type": "code",
   "execution_count": 18,
   "metadata": {
    "id": "Ju2ML-5JS_E5"
   },
   "outputs": [
    {
     "ename": "FileNotFoundError",
     "evalue": "[Errno 2] No such file or directory: 'MLS numbers - $10M_UPDATED.csv'",
     "output_type": "error",
     "traceback": [
      "\u001b[1;31m---------------------------------------------------------------------------\u001b[0m",
      "\u001b[1;31mFileNotFoundError\u001b[0m                         Traceback (most recent call last)",
      "\u001b[1;32m<ipython-input-18-635cf3670770>\u001b[0m in \u001b[0;36m<module>\u001b[1;34m\u001b[0m\n\u001b[1;32m----> 1\u001b[1;33m \u001b[0mdf_ten_M\u001b[0m \u001b[1;33m=\u001b[0m \u001b[0mpd\u001b[0m\u001b[1;33m.\u001b[0m\u001b[0mread_csv\u001b[0m\u001b[1;33m(\u001b[0m\u001b[1;34m'MLS numbers - $10M_UPDATED.csv'\u001b[0m\u001b[1;33m)\u001b[0m\u001b[1;33m\u001b[0m\u001b[1;33m\u001b[0m\u001b[0m\n\u001b[0m",
      "\u001b[1;32m~\\AppData\\Local\\Programs\\Python\\Python38\\lib\\site-packages\\pandas\\io\\parsers.py\u001b[0m in \u001b[0;36mread_csv\u001b[1;34m(filepath_or_buffer, sep, delimiter, header, names, index_col, usecols, squeeze, prefix, mangle_dupe_cols, dtype, engine, converters, true_values, false_values, skipinitialspace, skiprows, skipfooter, nrows, na_values, keep_default_na, na_filter, verbose, skip_blank_lines, parse_dates, infer_datetime_format, keep_date_col, date_parser, dayfirst, cache_dates, iterator, chunksize, compression, thousands, decimal, lineterminator, quotechar, quoting, doublequote, escapechar, comment, encoding, dialect, error_bad_lines, warn_bad_lines, delim_whitespace, low_memory, memory_map, float_precision)\u001b[0m\n\u001b[0;32m    686\u001b[0m     )\n\u001b[0;32m    687\u001b[0m \u001b[1;33m\u001b[0m\u001b[0m\n\u001b[1;32m--> 688\u001b[1;33m     \u001b[1;32mreturn\u001b[0m \u001b[0m_read\u001b[0m\u001b[1;33m(\u001b[0m\u001b[0mfilepath_or_buffer\u001b[0m\u001b[1;33m,\u001b[0m \u001b[0mkwds\u001b[0m\u001b[1;33m)\u001b[0m\u001b[1;33m\u001b[0m\u001b[1;33m\u001b[0m\u001b[0m\n\u001b[0m\u001b[0;32m    689\u001b[0m \u001b[1;33m\u001b[0m\u001b[0m\n\u001b[0;32m    690\u001b[0m \u001b[1;33m\u001b[0m\u001b[0m\n",
      "\u001b[1;32m~\\AppData\\Local\\Programs\\Python\\Python38\\lib\\site-packages\\pandas\\io\\parsers.py\u001b[0m in \u001b[0;36m_read\u001b[1;34m(filepath_or_buffer, kwds)\u001b[0m\n\u001b[0;32m    452\u001b[0m \u001b[1;33m\u001b[0m\u001b[0m\n\u001b[0;32m    453\u001b[0m     \u001b[1;31m# Create the parser.\u001b[0m\u001b[1;33m\u001b[0m\u001b[1;33m\u001b[0m\u001b[1;33m\u001b[0m\u001b[0m\n\u001b[1;32m--> 454\u001b[1;33m     \u001b[0mparser\u001b[0m \u001b[1;33m=\u001b[0m \u001b[0mTextFileReader\u001b[0m\u001b[1;33m(\u001b[0m\u001b[0mfp_or_buf\u001b[0m\u001b[1;33m,\u001b[0m \u001b[1;33m**\u001b[0m\u001b[0mkwds\u001b[0m\u001b[1;33m)\u001b[0m\u001b[1;33m\u001b[0m\u001b[1;33m\u001b[0m\u001b[0m\n\u001b[0m\u001b[0;32m    455\u001b[0m \u001b[1;33m\u001b[0m\u001b[0m\n\u001b[0;32m    456\u001b[0m     \u001b[1;32mif\u001b[0m \u001b[0mchunksize\u001b[0m \u001b[1;32mor\u001b[0m \u001b[0miterator\u001b[0m\u001b[1;33m:\u001b[0m\u001b[1;33m\u001b[0m\u001b[1;33m\u001b[0m\u001b[0m\n",
      "\u001b[1;32m~\\AppData\\Local\\Programs\\Python\\Python38\\lib\\site-packages\\pandas\\io\\parsers.py\u001b[0m in \u001b[0;36m__init__\u001b[1;34m(self, f, engine, **kwds)\u001b[0m\n\u001b[0;32m    946\u001b[0m             \u001b[0mself\u001b[0m\u001b[1;33m.\u001b[0m\u001b[0moptions\u001b[0m\u001b[1;33m[\u001b[0m\u001b[1;34m\"has_index_names\"\u001b[0m\u001b[1;33m]\u001b[0m \u001b[1;33m=\u001b[0m \u001b[0mkwds\u001b[0m\u001b[1;33m[\u001b[0m\u001b[1;34m\"has_index_names\"\u001b[0m\u001b[1;33m]\u001b[0m\u001b[1;33m\u001b[0m\u001b[1;33m\u001b[0m\u001b[0m\n\u001b[0;32m    947\u001b[0m \u001b[1;33m\u001b[0m\u001b[0m\n\u001b[1;32m--> 948\u001b[1;33m         \u001b[0mself\u001b[0m\u001b[1;33m.\u001b[0m\u001b[0m_make_engine\u001b[0m\u001b[1;33m(\u001b[0m\u001b[0mself\u001b[0m\u001b[1;33m.\u001b[0m\u001b[0mengine\u001b[0m\u001b[1;33m)\u001b[0m\u001b[1;33m\u001b[0m\u001b[1;33m\u001b[0m\u001b[0m\n\u001b[0m\u001b[0;32m    949\u001b[0m \u001b[1;33m\u001b[0m\u001b[0m\n\u001b[0;32m    950\u001b[0m     \u001b[1;32mdef\u001b[0m \u001b[0mclose\u001b[0m\u001b[1;33m(\u001b[0m\u001b[0mself\u001b[0m\u001b[1;33m)\u001b[0m\u001b[1;33m:\u001b[0m\u001b[1;33m\u001b[0m\u001b[1;33m\u001b[0m\u001b[0m\n",
      "\u001b[1;32m~\\AppData\\Local\\Programs\\Python\\Python38\\lib\\site-packages\\pandas\\io\\parsers.py\u001b[0m in \u001b[0;36m_make_engine\u001b[1;34m(self, engine)\u001b[0m\n\u001b[0;32m   1178\u001b[0m     \u001b[1;32mdef\u001b[0m \u001b[0m_make_engine\u001b[0m\u001b[1;33m(\u001b[0m\u001b[0mself\u001b[0m\u001b[1;33m,\u001b[0m \u001b[0mengine\u001b[0m\u001b[1;33m=\u001b[0m\u001b[1;34m\"c\"\u001b[0m\u001b[1;33m)\u001b[0m\u001b[1;33m:\u001b[0m\u001b[1;33m\u001b[0m\u001b[1;33m\u001b[0m\u001b[0m\n\u001b[0;32m   1179\u001b[0m         \u001b[1;32mif\u001b[0m \u001b[0mengine\u001b[0m \u001b[1;33m==\u001b[0m \u001b[1;34m\"c\"\u001b[0m\u001b[1;33m:\u001b[0m\u001b[1;33m\u001b[0m\u001b[1;33m\u001b[0m\u001b[0m\n\u001b[1;32m-> 1180\u001b[1;33m             \u001b[0mself\u001b[0m\u001b[1;33m.\u001b[0m\u001b[0m_engine\u001b[0m \u001b[1;33m=\u001b[0m \u001b[0mCParserWrapper\u001b[0m\u001b[1;33m(\u001b[0m\u001b[0mself\u001b[0m\u001b[1;33m.\u001b[0m\u001b[0mf\u001b[0m\u001b[1;33m,\u001b[0m \u001b[1;33m**\u001b[0m\u001b[0mself\u001b[0m\u001b[1;33m.\u001b[0m\u001b[0moptions\u001b[0m\u001b[1;33m)\u001b[0m\u001b[1;33m\u001b[0m\u001b[1;33m\u001b[0m\u001b[0m\n\u001b[0m\u001b[0;32m   1181\u001b[0m         \u001b[1;32melse\u001b[0m\u001b[1;33m:\u001b[0m\u001b[1;33m\u001b[0m\u001b[1;33m\u001b[0m\u001b[0m\n\u001b[0;32m   1182\u001b[0m             \u001b[1;32mif\u001b[0m \u001b[0mengine\u001b[0m \u001b[1;33m==\u001b[0m \u001b[1;34m\"python\"\u001b[0m\u001b[1;33m:\u001b[0m\u001b[1;33m\u001b[0m\u001b[1;33m\u001b[0m\u001b[0m\n",
      "\u001b[1;32m~\\AppData\\Local\\Programs\\Python\\Python38\\lib\\site-packages\\pandas\\io\\parsers.py\u001b[0m in \u001b[0;36m__init__\u001b[1;34m(self, src, **kwds)\u001b[0m\n\u001b[0;32m   2008\u001b[0m         \u001b[0mkwds\u001b[0m\u001b[1;33m[\u001b[0m\u001b[1;34m\"usecols\"\u001b[0m\u001b[1;33m]\u001b[0m \u001b[1;33m=\u001b[0m \u001b[0mself\u001b[0m\u001b[1;33m.\u001b[0m\u001b[0musecols\u001b[0m\u001b[1;33m\u001b[0m\u001b[1;33m\u001b[0m\u001b[0m\n\u001b[0;32m   2009\u001b[0m \u001b[1;33m\u001b[0m\u001b[0m\n\u001b[1;32m-> 2010\u001b[1;33m         \u001b[0mself\u001b[0m\u001b[1;33m.\u001b[0m\u001b[0m_reader\u001b[0m \u001b[1;33m=\u001b[0m \u001b[0mparsers\u001b[0m\u001b[1;33m.\u001b[0m\u001b[0mTextReader\u001b[0m\u001b[1;33m(\u001b[0m\u001b[0msrc\u001b[0m\u001b[1;33m,\u001b[0m \u001b[1;33m**\u001b[0m\u001b[0mkwds\u001b[0m\u001b[1;33m)\u001b[0m\u001b[1;33m\u001b[0m\u001b[1;33m\u001b[0m\u001b[0m\n\u001b[0m\u001b[0;32m   2011\u001b[0m         \u001b[0mself\u001b[0m\u001b[1;33m.\u001b[0m\u001b[0munnamed_cols\u001b[0m \u001b[1;33m=\u001b[0m \u001b[0mself\u001b[0m\u001b[1;33m.\u001b[0m\u001b[0m_reader\u001b[0m\u001b[1;33m.\u001b[0m\u001b[0munnamed_cols\u001b[0m\u001b[1;33m\u001b[0m\u001b[1;33m\u001b[0m\u001b[0m\n\u001b[0;32m   2012\u001b[0m \u001b[1;33m\u001b[0m\u001b[0m\n",
      "\u001b[1;32mpandas\\_libs\\parsers.pyx\u001b[0m in \u001b[0;36mpandas._libs.parsers.TextReader.__cinit__\u001b[1;34m()\u001b[0m\n",
      "\u001b[1;32mpandas\\_libs\\parsers.pyx\u001b[0m in \u001b[0;36mpandas._libs.parsers.TextReader._setup_parser_source\u001b[1;34m()\u001b[0m\n",
      "\u001b[1;31mFileNotFoundError\u001b[0m: [Errno 2] No such file or directory: 'MLS numbers - $10M_UPDATED.csv'"
     ]
    }
   ],
   "source": [
    "df_ten_M = pd.read_csv('MLS numbers - $10M_UPDATED.csv')"
   ]
  },
  {
   "cell_type": "code",
   "execution_count": null,
   "metadata": {
    "colab": {
     "base_uri": "https://localhost:8080/",
     "height": 143
    },
    "id": "_G3FwWemS_ZH",
    "outputId": "fef86006-4baf-49ff-cdda-4cdf65ff05cc"
   },
   "outputs": [],
   "source": [
    "df_ten_M\n",
    "df_ten_M.at[1,'time_frame']='Dec_2019_to_Nov_2020'\n",
    "df_ten_M"
   ]
  },
  {
   "cell_type": "code",
   "execution_count": null,
   "metadata": {
    "id": "A1mBw-j8WaMH"
   },
   "outputs": [],
   "source": [
    "df_ten_M = df_ten_M.replace('_', ' ',regex=True)"
   ]
  },
  {
   "cell_type": "code",
   "execution_count": null,
   "metadata": {
    "colab": {
     "base_uri": "https://localhost:8080/",
     "height": 143
    },
    "id": "PWEXamdFQsRe",
    "outputId": "10585e6a-2397-4b11-bd1f-3a08a57500b7"
   },
   "outputs": [],
   "source": [
    "### Let's calculate the total percent column\n",
    "\n",
    "tenM_sale_sum = df_ten_M.amount_of_sales.sum\n",
    "tenM_sale_sum()\n",
    "df_ten_M['total_percent'] = df_ten_M['amount_of_sales'] / tenM_sale_sum()\n",
    "\n",
    "df_ten_M"
   ]
  },
  {
   "cell_type": "code",
   "execution_count": null,
   "metadata": {
    "colab": {
     "base_uri": "https://localhost:8080/"
    },
    "id": "UMhrFZMfk6Dl",
    "outputId": "7cf8591d-14e6-487c-ca7d-ecb111250942"
   },
   "outputs": [],
   "source": [
    "### Removes the triple dot button ###\n",
    "alt.renderers.set_embed_options(actions=False)"
   ]
  },
  {
   "cell_type": "code",
   "execution_count": null,
   "metadata": {
    "colab": {
     "base_uri": "https://localhost:8080/",
     "height": 453
    },
    "id": "kTiMJrLTS_hP",
    "outputId": "37dede2c-1aff-40ec-ceba-9ab05f75f4d0"
   },
   "outputs": [],
   "source": [
    "time_sales = alt.Chart(df_ten_M).mark_bar().encode(\n",
    "    tooltip=[alt.Tooltip('time_frame',title='Time Frame'),\\\n",
    "             alt.Tooltip('amount_of_sales',title='Sale Volume')\n",
    "             ],\n",
    "   x=alt.X('time_frame', axis=alt.Axis(title='Time Frame',labelAngle=-45)),\n",
    "   y=alt.Y('amount_of_sales',axis=alt.Axis(title='Number of Home Sales'))\n",
    ").properties(\n",
    "    title=\"Number of Homes sold for more than $10M\"\n",
    ")\n",
    "\n",
    "time_sales"
   ]
  },
  {
   "cell_type": "code",
   "execution_count": null,
   "metadata": {
    "colab": {
     "base_uri": "https://localhost:8080/",
     "height": 448
    },
    "id": "XShB43b5S_p3",
    "outputId": "d7b49eb9-7365-44c0-94c0-6c70e111483e"
   },
   "outputs": [],
   "source": [
    "time_money = alt.Chart(df_ten_M).mark_bar().encode(\n",
    "    tooltip=[alt.Tooltip('time_frame',title='Time Frame'),\\\n",
    "             alt.Tooltip('total_sale_money',title='Dollar Volume',format='$,')],\n",
    "   x=alt.X('time_frame', axis=alt.Axis(title='Time Frame',labelAngle=-45)),\n",
    "   y=alt.Y('total_sale_money',axis=alt.Axis(values=[0,4000000000,8000000000],format='$,N',\n",
    "       title='Total Dollar Volume'))\n",
    ").properties(\n",
    "    title=\"Total Dollar Volume of Homes sold for more than $10M\"\n",
    ")\n",
    "\n",
    "time_money"
   ]
  },
  {
   "cell_type": "code",
   "execution_count": null,
   "metadata": {
    "id": "anPkJu5Bmc9J"
   },
   "outputs": [],
   "source": [
    "combo_chart = alt.hconcat(time_sales, time_money)"
   ]
  },
  {
   "cell_type": "code",
   "execution_count": null,
   "metadata": {
    "colab": {
     "base_uri": "https://localhost:8080/",
     "height": 455
    },
    "id": "7sF-30zzmnQa",
    "outputId": "dcbee405-36e1-458e-d662-494d3db36bdf"
   },
   "outputs": [],
   "source": [
    "combo_chart"
   ]
  },
  {
   "cell_type": "code",
   "execution_count": null,
   "metadata": {
    "id": "wIBzIHBnivYy"
   },
   "outputs": [],
   "source": [
    "combo_chart.save('index.html')"
   ]
  },
  {
   "cell_type": "code",
   "execution_count": null,
   "metadata": {
    "colab": {
     "base_uri": "https://localhost:8080/"
    },
    "id": "jveOHKicU8a9",
    "outputId": "f2164ba7-690f-4ffd-a1ea-f309e52d9918"
   },
   "outputs": [],
   "source": [
    "# pip install altair==4.2.0rc1"
   ]
  },
  {
   "cell_type": "code",
   "execution_count": null,
   "metadata": {
    "colab": {
     "base_uri": "https://localhost:8080/"
    },
    "id": "t7y0X2S2twtW",
    "outputId": "23d430aa-76c3-412a-d739-c741231caab2"
   },
   "outputs": [],
   "source": [
    "df_ten_M.columns"
   ]
  },
  {
   "cell_type": "code",
   "execution_count": null,
   "metadata": {
    "colab": {
     "base_uri": "https://localhost:8080/",
     "height": 348
    },
    "id": "zYsDgaMoS689",
    "outputId": "e2ce6abb-7676-4cd5-c9b8-8012f6410ac9"
   },
   "outputs": [],
   "source": [
    "### Let's make a pie chart\n",
    "\n",
    "pie_chart_10M = alt.Chart(df_ten_M).mark_arc().encode(\n",
    "    theta=alt.Theta(field=\"total_percent\",type=\"quantitative\"),\n",
    "    color=alt.Color(field=\"time_frame\",type=\"nominal\",legend=alt.Legend(title=\"Time Frame\")),\n",
    "    tooltip=[alt.Tooltip('time_frame',title='Time Frame'),\\\n",
    "             alt.Tooltip('total_percent', title='Percent', format='.2%')]\n",
    ").properties(\n",
    "    title=\"Percent of $10M+ homes sold over past three years\"\n",
    ").configure_view(\n",
    "    strokeWidth=0\n",
    ")\n",
    "\n",
    "pie_chart_10M"
   ]
  },
  {
   "cell_type": "code",
   "execution_count": null,
   "metadata": {
    "id": "6YF21GJ65nC5"
   },
   "outputs": [],
   "source": [
    "# pie_chart_10M.save('PIE_CHART.html')"
   ]
  },
  {
   "cell_type": "markdown",
   "metadata": {
    "id": "OSOZjKa7p_la"
   },
   "source": [
    "--UNDER $1M--"
   ]
  },
  {
   "cell_type": "code",
   "execution_count": null,
   "metadata": {
    "id": "M3s2cslsos0J"
   },
   "outputs": [],
   "source": [
    "# df_under_1m = pd.read_csv('/content/drive/MyDrive/MLSdata/MLS numbers - under $1m.csv')"
   ]
  },
  {
   "cell_type": "code",
   "execution_count": null,
   "metadata": {
    "colab": {
     "base_uri": "https://localhost:8080/",
     "height": 143
    },
    "id": "Ws_hXvuwos9x",
    "outputId": "e909ba10-5808-4916-c0eb-a04f04362de9"
   },
   "outputs": [],
   "source": [
    "# df_under_1m = df_under_1m.replace('_', ' ',regex=True)\n",
    "# df_under_1m"
   ]
  },
  {
   "cell_type": "code",
   "execution_count": null,
   "metadata": {
    "colab": {
     "base_uri": "https://localhost:8080/",
     "height": 141
    },
    "id": "A7-l8_0CotGI",
    "outputId": "bcd6757d-4998-43eb-a016-cd226183cb3a"
   },
   "outputs": [],
   "source": [
    "# time_sales_under_1m = alt.Chart(df_under_1m).mark_bar().encode(\n",
    "#     tooltip=[alt.Tooltip('time_frame',title='Time Frame'),\\\n",
    "#              alt.Tooltip('amount_of_sales',title='Sale Volume',format=',')\n",
    "#              ],\n",
    "#    y=alt.Y('time_frame', axis=alt.Axis(title='Time Frame')),\n",
    "#    x=alt.X('amount_of_sales',axis=alt.Axis(tickCount=4,title='Number of Home Sales'))\n",
    "# ).properties(\n",
    "#     title=\"Number of Homes sold for less than $1M\"\n",
    "# )\n",
    "\n",
    "# time_sales_under_1m"
   ]
  },
  {
   "cell_type": "code",
   "execution_count": null,
   "metadata": {
    "id": "yII0U0uRqwO4"
   },
   "outputs": [],
   "source": [
    "# df_under_1m = df_under_1m.replace(',','',regex=True)\n",
    "# df_under_1m.total_sale_money = df_under_1m.total_sale_money.astype(int)"
   ]
  },
  {
   "cell_type": "code",
   "execution_count": null,
   "metadata": {
    "colab": {
     "base_uri": "https://localhost:8080/"
    },
    "id": "9g5u3eySrbmI",
    "outputId": "bb1d860c-dd67-4efe-d4be-4851191398c7"
   },
   "outputs": [],
   "source": [
    "# df_under_1m.dtypes"
   ]
  },
  {
   "cell_type": "code",
   "execution_count": null,
   "metadata": {
    "colab": {
     "base_uri": "https://localhost:8080/",
     "height": 141
    },
    "id": "XfdGefFOotO4",
    "outputId": "07909a0a-cf96-49ca-de0a-952ba5a0ec4a"
   },
   "outputs": [],
   "source": [
    "# time_money_under_1m = alt.Chart(df_under_1m).mark_bar().encode(\n",
    "#     tooltip=[alt.Tooltip('time_frame',title='Time Frame'),\\\n",
    "#              alt.Tooltip('total_sale_money',title='Dollar Volume',format='$,')],\n",
    "#    y=alt.Y('time_frame', axis=alt.Axis(title='Time Frame')),\n",
    "#    x=alt.X('total_sale_money',axis=alt.Axis(values=[0,25000000000,50000000000],format='$,N',\n",
    "#        title='Total Dollar Volume'))\n",
    "# ).properties(\n",
    "#     title=\"Total Dollar Volume of Homes sold for less than $1M\"\n",
    "# )\n",
    "\n",
    "# time_money_under_1m"
   ]
  },
  {
   "cell_type": "code",
   "execution_count": null,
   "metadata": {
    "colab": {
     "base_uri": "https://localhost:8080/",
     "height": 275
    },
    "id": "GJkhY48926KN",
    "outputId": "ec3c4f26-a4d4-4c79-8811-5af95358cc58"
   },
   "outputs": [],
   "source": [
    "# combo_chart_1m = alt.vconcat(time_sales_under_1m, time_money_under_1m)\n",
    "# combo_chart_1m"
   ]
  }
 ],
 "metadata": {
  "colab": {
   "collapsed_sections": [],
   "name": "MLSanalysis.ipynb",
   "provenance": []
  },
  "kernelspec": {
   "display_name": "Python 3",
   "language": "python",
   "name": "python3"
  },
  "language_info": {
   "codemirror_mode": {
    "name": "ipython",
    "version": 3
   },
   "file_extension": ".py",
   "mimetype": "text/x-python",
   "name": "python",
   "nbconvert_exporter": "python",
   "pygments_lexer": "ipython3",
   "version": "3.8.6"
  },
  "toc": {
   "base_numbering": 1,
   "nav_menu": {},
   "number_sections": true,
   "sideBar": true,
   "skip_h1_title": false,
   "title_cell": "Table of Contents",
   "title_sidebar": "Contents",
   "toc_cell": false,
   "toc_position": {},
   "toc_section_display": true,
   "toc_window_display": false
  }
 },
 "nbformat": 4,
 "nbformat_minor": 1
}
